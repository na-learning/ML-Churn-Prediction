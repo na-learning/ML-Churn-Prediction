{
 "cells": [
  {
   "cell_type": "code",
   "execution_count": 1,
   "id": "9d7bcf20-cbcd-47c1-9ae7-d7ea1ef251b0",
   "metadata": {},
   "outputs": [
    {
     "name": "stdout",
     "output_type": "stream",
     "text": [
      "sagemaker.config INFO - Not applying SDK defaults from location: /etc/xdg/sagemaker/config.yaml\n",
      "sagemaker.config INFO - Not applying SDK defaults from location: /home/sagemaker-user/.config/sagemaker/config.yaml\n"
     ]
    }
   ],
   "source": [
    "import boto3\n",
    "import sagemaker\n",
    "import datetime as dt\n",
    "import pandas as pd"
   ]
  },
  {
   "cell_type": "code",
   "execution_count": 2,
   "id": "7cbd9fa1-9554-4baf-94d8-e07fb6757864",
   "metadata": {},
   "outputs": [],
   "source": [
    "default_bucket = \"customer-churn-sm-pipeline-na\""
   ]
  },
  {
   "cell_type": "code",
   "execution_count": 3,
   "id": "51af03d8-1537-4b94-a8b2-6fc7a3236293",
   "metadata": {},
   "outputs": [],
   "source": [
    "region = boto3.Session().region_name\n",
    "role = sagemaker.get_execution_role()\n",
    "sagemaker_session = sagemaker.Session()\n",
    "sklearn_processor_version=\"0.23-1\"\n",
    "model_package_group_name=\"ChurnModelPackageGroup\"\n",
    "pipeline_name= \"ChurnModelSMPipeline\"\n",
    "clarify_image = sagemaker.image_uris.retrieve(framework='sklearn',version=sklearn_processor_version,region=region)"
   ]
  },
  {
   "cell_type": "code",
   "execution_count": 4,
   "id": "5055a84a-82a0-48f8-9b6c-f14acb3db3d3",
   "metadata": {},
   "outputs": [],
   "source": [
    "def preprocess_data(file_path):\n",
    "    df = pd.read_csv(file_path)\n",
    "    ## Convert to datetime columns\n",
    "    df[\"firstorder\"]=pd.to_datetime(df[\"firstorder\"],errors='coerce')\n",
    "    df[\"lastorder\"] = pd.to_datetime(df[\"lastorder\"],errors='coerce')\n",
    "    ## Drop Rows with null values\n",
    "    df = df.dropna()\n",
    "    ## Create Column which gives the days between the last order and the first order\n",
    "    df[\"first_last_days_diff\"] = (df['lastorder']-df['firstorder']).dt.days\n",
    "    ## Create Column which gives the days between when the customer record was created and the first order\n",
    "    df['created'] = pd.to_datetime(df['created'])\n",
    "    df['created_first_days_diff']=(df['created']-df['firstorder']).dt.days\n",
    "    ## Drop Columns\n",
    "    df.drop(['custid','created','firstorder','lastorder'],axis=1,inplace=True)\n",
    "    ## Apply one hot encoding on favday and city columns\n",
    "    df = pd.get_dummies(df,prefix=['favday','city'],columns=['favday','city'])\n",
    "    return df"
   ]
  },
  {
   "cell_type": "code",
   "execution_count": 6,
   "id": "58ba8510-3c31-45e4-8f3f-a5e55e01bc0a",
   "metadata": {},
   "outputs": [],
   "source": [
    "baseline_data = preprocess_data(\"data/storedata_total.csv\")\n",
    "baseline_data.pop(\"retained\")\n",
    "baseline_sample = baseline_data.sample(frac=0.0002)"
   ]
  },
  {
   "cell_type": "code",
   "execution_count": 7,
   "id": "79ea7e24-8a59-48e4-b3c9-0b2c2fe8c0e3",
   "metadata": {},
   "outputs": [],
   "source": [
    "pd.DataFrame(baseline_sample).to_csv(\"data/baseline.csv\",header=False,index=False)"
   ]
  },
  {
   "cell_type": "code",
   "execution_count": 8,
   "id": "0d3c4191-ad56-4316-a62b-aac7e327c9ef",
   "metadata": {},
   "outputs": [],
   "source": [
    "batch_data = preprocess_data(\"data/storedata_total.csv\")\n",
    "batch_data.pop(\"retained\")\n",
    "batch_sample = batch_data.sample(frac=0.2)"
   ]
  },
  {
   "cell_type": "code",
   "execution_count": 9,
   "id": "864daa03-909f-41f4-a603-17917ffefd19",
   "metadata": {},
   "outputs": [],
   "source": [
    "pd.DataFrame(batch_sample).to_csv(\"data/batch.csv\",header=False,index=False)"
   ]
  },
  {
   "cell_type": "code",
   "execution_count": 10,
   "id": "3ee632e4-7963-4bf1-9cdd-018b5c42a102",
   "metadata": {},
   "outputs": [],
   "source": [
    "s3_client = boto3.resource('s3')\n",
    "s3_client.Bucket(default_bucket).upload_file(\"data/storedata_total.csv\",\"data/storedata_total.csv\")\n",
    "s3_client.Bucket(default_bucket).upload_file(\"data/batch.csv\",\"data/batch/batch.csv\")\n",
    "s3_client.Bucket(default_bucket).upload_file(\"data/baseline.csv\",\"input/baseline/baseline.csv\")"
   ]
  },
  {
   "cell_type": "code",
   "execution_count": 11,
   "id": "2b6f484e-7c2b-4165-9743-bdc62e8b053c",
   "metadata": {},
   "outputs": [],
   "source": [
    "s3_client.Bucket(default_bucket).upload_file(\"pipelines/customerchurn/preprocess.py\",\"input/code/preprocess.py\")\n",
    "s3_client.Bucket(default_bucket).upload_file(\"pipelines/customerchurn/evaluate.py\",\"input/code/evaluate.py\")\n",
    "s3_client.Bucket(default_bucket).upload_file(\"pipelines/customerchurn/generate_config.py\",\"input/code/generate_config.py\")"
   ]
  },
  {
   "cell_type": "code",
   "execution_count": 12,
   "id": "7d88da6e-613e-4c82-b7ea-3571a9ac3ea0",
   "metadata": {},
   "outputs": [
    {
     "name": "stderr",
     "output_type": "stream",
     "text": [
      "WARNING:sagemaker.workflow.utilities:The input argument instance_type of function (sagemaker.image_uris.retrieve) is a pipeline variable (<class 'sagemaker.workflow.parameters.ParameterString'>), which is interpreted in pipeline execution time only. As the function needs to evaluate the argument value in SDK compile time, the default_value of this Parameter object will be used to override it. Please make sure the default_value is valid.\n",
      "INFO:sagemaker.image_uris:Defaulting to only available Python version: py3\n",
      "WARNING:sagemaker.workflow.utilities:The input argument instance_type of function (sagemaker.image_uris.retrieve) is a pipeline variable (<class 'sagemaker.workflow.parameters.ParameterString'>), which is interpreted in pipeline execution time only. As the function needs to evaluate the argument value in SDK compile time, the default_value of this Parameter object will be used to override it. Please make sure the default_value is valid.\n",
      "INFO:sagemaker.image_uris:Defaulting to the only supported framework/algorithm version: 1.0.\n",
      "INFO:sagemaker.image_uris:Ignoring unnecessary instance type: None.\n",
      "WARNING:sagemaker.deprecations:The class JsonGet has been renamed in sagemaker>=2.\n",
      "See: https://sagemaker.readthedocs.io/en/stable/v2.html for details.\n"
     ]
    }
   ],
   "source": [
    "from pipelines.customerchurn.pipeline import get_pipeline\n",
    "\n",
    "pipeline = get_pipeline(\n",
    "    region = region,\n",
    "    role=role,\n",
    "    default_bucket=default_bucket,\n",
    "    model_package_group_name=model_package_group_name,\n",
    "    pipeline_name=pipeline_name,\n",
    "    custom_image_uri=clarify_image,\n",
    "    sklearn_processor_version=sklearn_processor_version\n",
    ")"
   ]
  },
  {
   "cell_type": "code",
   "execution_count": 13,
   "id": "261b367e-1469-4983-a468-e3750f3caad3",
   "metadata": {},
   "outputs": [
    {
     "name": "stderr",
     "output_type": "stream",
     "text": [
      "WARNING:sagemaker.workflow.utilities:Popping out 'ProcessingJobName' from the pipeline definition by default since it will be overridden at pipeline execution time. Please utilize the PipelineDefinitionConfig to persist this field in the pipeline definition if desired.\n",
      "WARNING:sagemaker.estimator:No finished training job found associated with this estimator. Please make sure this estimator is only used for building workflow config\n",
      "WARNING:sagemaker.estimator:No finished training job found associated with this estimator. Please make sure this estimator is only used for building workflow config\n",
      "WARNING:sagemaker.workflow.utilities:Popping out 'HyperParameterTuningJobName' from the pipeline definition by default since it will be overridden at pipeline execution time. Please utilize the PipelineDefinitionConfig to persist this field in the pipeline definition if desired.\n",
      "WARNING:sagemaker.workflow.utilities:Popping out 'ProcessingJobName' from the pipeline definition by default since it will be overridden at pipeline execution time. Please utilize the PipelineDefinitionConfig to persist this field in the pipeline definition if desired.\n",
      "WARNING:sagemaker.estimator:No finished training job found associated with this estimator. Please make sure this estimator is only used for building workflow config\n",
      "WARNING:sagemaker.workflow._utils:Popping out 'CertifyForMarketplace' from the pipeline definition since it will be overridden in pipeline execution time.\n",
      "WARNING:sagemaker.workflow.utilities:Popping out 'ModelPackageName' from the pipeline definition by default since it will be overridden at pipeline execution time. Please utilize the PipelineDefinitionConfig to persist this field in the pipeline definition if desired.\n",
      "WARNING:sagemaker.workflow.utilities:Popping out 'ModelName' from the pipeline definition by default since it will be overridden at pipeline execution time. Please utilize the PipelineDefinitionConfig to persist this field in the pipeline definition if desired.\n",
      "WARNING:sagemaker.workflow.utilities:Popping out 'ProcessingJobName' from the pipeline definition by default since it will be overridden at pipeline execution time. Please utilize the PipelineDefinitionConfig to persist this field in the pipeline definition if desired.\n",
      "WARNING:sagemaker.workflow.utilities:Popping out 'TransformJobName' from the pipeline definition by default since it will be overridden at pipeline execution time. Please utilize the PipelineDefinitionConfig to persist this field in the pipeline definition if desired.\n",
      "WARNING:sagemaker.workflow.utilities:Popping out 'ProcessingJobName' from the pipeline definition by default since it will be overridden at pipeline execution time. Please utilize the PipelineDefinitionConfig to persist this field in the pipeline definition if desired.\n"
     ]
    },
    {
     "data": {
      "text/plain": [
       "'{\"Version\": \"2020-12-01\", \"Metadata\": {}, \"Parameters\": [{\"Name\": \"ProcessingInstanceType\", \"Type\": \"String\", \"DefaultValue\": \"ml.m5.xlarge\"}, {\"Name\": \"ProcessingInstanceCount\", \"Type\": \"Integer\", \"DefaultValue\": 1}, {\"Name\": \"TrainingInstanceType\", \"Type\": \"String\", \"DefaultValue\": \"ml.m5.xlarge\"}, {\"Name\": \"InputData\", \"Type\": \"String\", \"DefaultValue\": \"s3://customer-churn-sm-pipeline-na/data/storedata_total.csv\"}, {\"Name\": \"BatchData\", \"Type\": \"String\", \"DefaultValue\": \"s3://customer-churn-sm-pipeline-na/data/batch/batch.csv\"}], \"PipelineExperimentConfig\": {\"ExperimentName\": {\"Get\": \"Execution.PipelineName\"}, \"TrialName\": {\"Get\": \"Execution.PipelineExecutionId\"}}, \"Steps\": [{\"Name\": \"ChurnModelProcess\", \"Type\": \"Processing\", \"Arguments\": {\"ProcessingResources\": {\"ClusterConfig\": {\"InstanceType\": {\"Get\": \"Parameters.ProcessingInstanceType\"}, \"InstanceCount\": {\"Get\": \"Parameters.ProcessingInstanceCount\"}, \"VolumeSizeInGB\": 30}}, \"AppSpecification\": {\"ImageUri\": \"257758044811.dkr.ecr.us-east-2.amazonaws.com/sagemaker-scikit-learn:0.23-1-cpu-py3\", \"ContainerEntrypoint\": [\"python3\", \"/opt/ml/processing/input/code/preprocess.py\"]}, \"RoleArn\": \"arn:aws:iam::905418470938:role/service-role/AmazonSageMaker-ExecutionRole-20240707T111923\", \"ProcessingInputs\": [{\"InputName\": \"input-1\", \"AppManaged\": false, \"S3Input\": {\"S3Uri\": {\"Get\": \"Parameters.InputData\"}, \"LocalPath\": \"/opt/ml/processing/input\", \"S3DataType\": \"S3Prefix\", \"S3InputMode\": \"File\", \"S3DataDistributionType\": \"FullyReplicated\", \"S3CompressionType\": \"None\"}}, {\"InputName\": \"code\", \"AppManaged\": false, \"S3Input\": {\"S3Uri\": \"s3://customer-churn-sm-pipeline-na/input/code/preprocess.py\", \"LocalPath\": \"/opt/ml/processing/input/code\", \"S3DataType\": \"S3Prefix\", \"S3InputMode\": \"File\", \"S3DataDistributionType\": \"FullyReplicated\", \"S3CompressionType\": \"None\"}}], \"ProcessingOutputConfig\": {\"Outputs\": [{\"OutputName\": \"train\", \"AppManaged\": false, \"S3Output\": {\"S3Uri\": \"s3://customer-churn-sm-pipeline-na/output/train\", \"LocalPath\": \"/opt/ml/processing/train\", \"S3UploadMode\": \"EndOfJob\"}}, {\"OutputName\": \"validation\", \"AppManaged\": false, \"S3Output\": {\"S3Uri\": \"s3://customer-churn-sm-pipeline-na/output/validation\", \"LocalPath\": \"/opt/ml/processing/validation\", \"S3UploadMode\": \"EndOfJob\"}}, {\"OutputName\": \"test\", \"AppManaged\": false, \"S3Output\": {\"S3Uri\": \"s3://customer-churn-sm-pipeline-na/output/test\", \"LocalPath\": \"/opt/ml/processing/test\", \"S3UploadMode\": \"EndOfJob\"}}]}}}, {\"Name\": \"ChurnHyperParameterTuning\", \"Type\": \"Tuning\", \"Arguments\": {\"HyperParameterTuningJobConfig\": {\"Strategy\": \"Bayesian\", \"ResourceLimits\": {\"MaxNumberOfTrainingJobs\": 2, \"MaxParallelTrainingJobs\": 2}, \"TrainingJobEarlyStoppingType\": \"Off\", \"HyperParameterTuningJobObjective\": {\"Type\": \"Maximize\", \"MetricName\": \"validation:auc\"}, \"ParameterRanges\": {\"ContinuousParameterRanges\": [{\"Name\": \"eta\", \"MinValue\": \"0\", \"MaxValue\": \"1\", \"ScalingType\": \"Auto\"}, {\"Name\": \"min_child_weight\", \"MinValue\": \"1\", \"MaxValue\": \"10\", \"ScalingType\": \"Auto\"}, {\"Name\": \"alpha\", \"MinValue\": \"0\", \"MaxValue\": \"2\", \"ScalingType\": \"Auto\"}], \"CategoricalParameterRanges\": [], \"IntegerParameterRanges\": [{\"Name\": \"max_depth\", \"MinValue\": \"1\", \"MaxValue\": \"10\", \"ScalingType\": \"Auto\"}]}}, \"TrainingJobDefinition\": {\"StaticHyperParameters\": {\"eval_metric\": \"auc\", \"objective\": \"binary:logistic\", \"num_round\": \"100\", \"rate_drop\": \"0.3\", \"tweedie_variance_power\": \"1.4\"}, \"RoleArn\": \"arn:aws:iam::905418470938:role/service-role/AmazonSageMaker-ExecutionRole-20240707T111923\", \"OutputDataConfig\": {\"S3OutputPath\": \"s3://customer-churn-sm-pipeline-na/output\"}, \"StoppingCondition\": {\"MaxRuntimeInSeconds\": 86400}, \"HyperParameterTuningResourceConfig\": {\"InstanceCount\": 1, \"InstanceType\": {\"Get\": \"Parameters.TrainingInstanceType\"}, \"VolumeSizeInGB\": 30}, \"AlgorithmSpecification\": {\"TrainingInputMode\": \"File\", \"TrainingImage\": \"257758044811.dkr.ecr.us-east-2.amazonaws.com/sagemaker-xgboost:1.0-1-cpu-py3\"}, \"InputDataConfig\": [{\"DataSource\": {\"S3DataSource\": {\"S3DataType\": \"S3Prefix\", \"S3Uri\": {\"Get\": \"Steps.ChurnModelProcess.ProcessingOutputConfig.Outputs[\\'train\\'].S3Output.S3Uri\"}, \"S3DataDistributionType\": \"FullyReplicated\"}}, \"ContentType\": \"text/csv\", \"ChannelName\": \"train\"}, {\"DataSource\": {\"S3DataSource\": {\"S3DataType\": \"S3Prefix\", \"S3Uri\": {\"Get\": \"Steps.ChurnModelProcess.ProcessingOutputConfig.Outputs[\\'validation\\'].S3Output.S3Uri\"}, \"S3DataDistributionType\": \"FullyReplicated\"}}, \"ContentType\": \"text/csv\", \"ChannelName\": \"validation\"}]}}}, {\"Name\": \"ChurnEvalBestModel\", \"Type\": \"Processing\", \"Arguments\": {\"ProcessingResources\": {\"ClusterConfig\": {\"InstanceType\": {\"Get\": \"Parameters.ProcessingInstanceType\"}, \"InstanceCount\": 1, \"VolumeSizeInGB\": 30}}, \"AppSpecification\": {\"ImageUri\": \"257758044811.dkr.ecr.us-east-2.amazonaws.com/sagemaker-xgboost:1.0-1-cpu-py3\", \"ContainerEntrypoint\": [\"python3\", \"/opt/ml/processing/input/code/evaluate.py\"]}, \"RoleArn\": \"arn:aws:iam::905418470938:role/service-role/AmazonSageMaker-ExecutionRole-20240707T111923\", \"ProcessingInputs\": [{\"InputName\": \"input-1\", \"AppManaged\": false, \"S3Input\": {\"S3Uri\": {\"Std:Join\": {\"On\": \"/\", \"Values\": [\"s3:/\", \"customer-churn-sm-pipeline-na\", \"output\", {\"Get\": \"Steps.ChurnHyperParameterTuning.TrainingJobSummaries[0].TrainingJobName\"}, \"output/model.tar.gz\"]}}, \"LocalPath\": \"/opt/ml/processing/model\", \"S3DataType\": \"S3Prefix\", \"S3InputMode\": \"File\", \"S3DataDistributionType\": \"FullyReplicated\", \"S3CompressionType\": \"None\"}}, {\"InputName\": \"input-2\", \"AppManaged\": false, \"S3Input\": {\"S3Uri\": {\"Get\": \"Steps.ChurnModelProcess.ProcessingOutputConfig.Outputs[\\'test\\'].S3Output.S3Uri\"}, \"LocalPath\": \"/opt/ml/processing/test\", \"S3DataType\": \"S3Prefix\", \"S3InputMode\": \"File\", \"S3DataDistributionType\": \"FullyReplicated\", \"S3CompressionType\": \"None\"}}, {\"InputName\": \"code\", \"AppManaged\": false, \"S3Input\": {\"S3Uri\": \"s3://customer-churn-sm-pipeline-na/input/code/evaluate.py\", \"LocalPath\": \"/opt/ml/processing/input/code\", \"S3DataType\": \"S3Prefix\", \"S3InputMode\": \"File\", \"S3DataDistributionType\": \"FullyReplicated\", \"S3CompressionType\": \"None\"}}], \"ProcessingOutputConfig\": {\"Outputs\": [{\"OutputName\": \"evaluation\", \"AppManaged\": false, \"S3Output\": {\"S3Uri\": \"s3://customer-churn-sm-pipeline-na/output/evaluation\", \"LocalPath\": \"/opt/ml/processing/evaluation\", \"S3UploadMode\": \"EndOfJob\"}}]}}, \"PropertyFiles\": [{\"PropertyFileName\": \"ChurnEvaluationReport\", \"OutputName\": \"evaluation\", \"FilePath\": \"evaluation.json\"}]}, {\"Name\": \"CheckAUCScoreChurnEvaluation\", \"Type\": \"Condition\", \"Arguments\": {\"Conditions\": [{\"Type\": \"GreaterThan\", \"LeftValue\": {\"Std:JsonGet\": {\"PropertyFile\": {\"Get\": \"Steps.ChurnEvalBestModel.PropertyFiles.ChurnEvaluationReport\"}, \"Path\": \"classification_metrics.auc_score.value\"}}, \"RightValue\": 0.75}], \"IfSteps\": [{\"Name\": \"RegisterChurnModel-RegisterModel\", \"Type\": \"RegisterModel\", \"Arguments\": {\"ModelPackageGroupName\": \"ChurnModelPackageGroup\", \"ModelMetrics\": {\"ModelQuality\": {\"Statistics\": {\"ContentType\": \"application/json\", \"S3Uri\": \"s3://customer-churn-sm-pipeline-na/evaluation.json\"}}, \"Bias\": {}, \"Explainability\": {}}, \"InferenceSpecification\": {\"Containers\": [{\"Image\": \"257758044811.dkr.ecr.us-east-2.amazonaws.com/sagemaker-xgboost:1.0-1-cpu-py3\", \"ModelDataUrl\": {\"Std:Join\": {\"On\": \"/\", \"Values\": [\"s3:/\", \"customer-churn-sm-pipeline-na\", \"output\", {\"Get\": \"Steps.ChurnHyperParameterTuning.TrainingJobSummaries[0].TrainingJobName\"}, \"output/model.tar.gz\"]}}}], \"SupportedContentTypes\": [\"text/csv\"], \"SupportedResponseMIMETypes\": [\"text/csv\"], \"SupportedRealtimeInferenceInstanceTypes\": [\"ml.t2.medium\", \"ml.m5.large\"], \"SupportedTransformInstanceTypes\": [\"ml.m5.large\"]}, \"ModelApprovalStatus\": \"PendingManualApproval\", \"SkipModelValidation\": \"None\"}}, {\"Name\": \"ChurnCreateModel\", \"Type\": \"Model\", \"Arguments\": {\"ExecutionRoleArn\": \"arn:aws:iam::905418470938:role/service-role/AmazonSageMaker-ExecutionRole-20240707T111923\", \"PrimaryContainer\": {\"Image\": \"257758044811.dkr.ecr.us-east-2.amazonaws.com/sagemaker-xgboost:1.0-1-cpu-py3\", \"Environment\": {}, \"ModelDataUrl\": {\"Std:Join\": {\"On\": \"/\", \"Values\": [\"s3:/\", \"customer-churn-sm-pipeline-na\", \"output\", {\"Get\": \"Steps.ChurnHyperParameterTuning.TrainingJobSummaries[0].TrainingJobName\"}, \"output/model.tar.gz\"]}}}}}, {\"Name\": \"ChurnModelConfigFile\", \"Type\": \"Processing\", \"Arguments\": {\"ProcessingResources\": {\"ClusterConfig\": {\"InstanceType\": {\"Get\": \"Parameters.ProcessingInstanceType\"}, \"InstanceCount\": 1, \"VolumeSizeInGB\": 30}}, \"AppSpecification\": {\"ImageUri\": \"257758044811.dkr.ecr.us-east-2.amazonaws.com/sagemaker-scikit-learn:0.23-1-cpu-py3\", \"ContainerArguments\": [\"--modelname\", {\"Get\": \"Steps.ChurnCreateModel.ModelName\"}, \"--bias-report-output-path\", \"s3://customer-churn-sm-pipeline-na/clarify-output/bias\", \"--clarify-instance-type\", \"ml.c5.xlarge\", \"--default-bucket\", \"customer-churn-sm-pipeline-na\", \"--num-baseline-samples\", \"50\", \"--instance-count\", \"1\"], \"ContainerEntrypoint\": [\"python3\", \"/opt/ml/processing/input/code/generate_config.py\"]}, \"RoleArn\": \"arn:aws:iam::905418470938:role/service-role/AmazonSageMaker-ExecutionRole-20240707T111923\", \"ProcessingInputs\": [{\"InputName\": \"code\", \"AppManaged\": false, \"S3Input\": {\"S3Uri\": \"s3://customer-churn-sm-pipeline-na/input/code/generate_config.py\", \"LocalPath\": \"/opt/ml/processing/input/code\", \"S3DataType\": \"S3Prefix\", \"S3InputMode\": \"File\", \"S3DataDistributionType\": \"FullyReplicated\", \"S3CompressionType\": \"None\"}}]}, \"DependsOn\": [\"ChurnCreateModel\"]}, {\"Name\": \"ChurnTransform\", \"Type\": \"Transform\", \"Arguments\": {\"ModelName\": {\"Get\": \"Steps.ChurnCreateModel.ModelName\"}, \"TransformInput\": {\"DataSource\": {\"S3DataSource\": {\"S3DataType\": \"S3Prefix\", \"S3Uri\": {\"Get\": \"Parameters.BatchData\"}}}, \"ContentType\": \"text/csv\"}, \"TransformOutput\": {\"S3OutputPath\": \"s3://customer-churn-sm-pipeline-na/ChurnTransform\"}, \"TransformResources\": {\"InstanceCount\": 1, \"InstanceType\": \"ml.m5.xlarge\"}}}, {\"Name\": \"ClarifyProcessingStep\", \"Type\": \"Processing\", \"Arguments\": {\"ProcessingResources\": {\"ClusterConfig\": {\"InstanceType\": \"ml.c5.xlarge\", \"InstanceCount\": 1, \"VolumeSizeInGB\": 30}}, \"AppSpecification\": {\"ImageUri\": \"211330385671.dkr.ecr.us-east-2.amazonaws.com/sagemaker-clarify-processing:1.0\"}, \"RoleArn\": \"arn:aws:iam::905418470938:role/service-role/AmazonSageMaker-ExecutionRole-20240707T111923\", \"ProcessingInputs\": [{\"InputName\": \"dataset\", \"AppManaged\": false, \"S3Input\": {\"S3Uri\": \"s3://customer-churn-sm-pipeline-na/output/train/train.csv\", \"LocalPath\": \"/opt/ml/processing/input/data\", \"S3DataType\": \"S3Prefix\", \"S3InputMode\": \"File\", \"S3DataDistributionType\": \"FullyReplicated\", \"S3CompressionType\": \"None\"}}, {\"InputName\": \"analysis_config\", \"AppManaged\": false, \"S3Input\": {\"S3Uri\": \"s3://customer-churn-sm-pipeline-na/clarify-output/bias/analysis_config.json\", \"LocalPath\": \"/opt/ml/processing/input/analysis_config\", \"S3DataType\": \"S3Prefix\", \"S3InputMode\": \"File\", \"S3DataDistributionType\": \"FullyReplicated\", \"S3CompressionType\": \"None\"}}], \"ProcessingOutputConfig\": {\"Outputs\": [{\"OutputName\": \"analysis_result\", \"AppManaged\": false, \"S3Output\": {\"S3Uri\": \"s3://customer-churn-sm-pipeline-na/clarify-output/bias\", \"LocalPath\": \"/opt/ml/processing/output\", \"S3UploadMode\": \"EndOfJob\"}}]}}, \"DependsOn\": [\"ChurnModelConfigFile\"]}], \"ElseSteps\": []}}]}'"
      ]
     },
     "execution_count": 13,
     "metadata": {},
     "output_type": "execute_result"
    }
   ],
   "source": [
    "pipeline.definition()"
   ]
  },
  {
   "cell_type": "code",
   "execution_count": 14,
   "id": "dbd85143-ff43-4dc2-8299-96a7984176c9",
   "metadata": {},
   "outputs": [
    {
     "name": "stderr",
     "output_type": "stream",
     "text": [
      "WARNING:sagemaker.workflow.utilities:Popping out 'ProcessingJobName' from the pipeline definition by default since it will be overridden at pipeline execution time. Please utilize the PipelineDefinitionConfig to persist this field in the pipeline definition if desired.\n",
      "WARNING:sagemaker.estimator:No finished training job found associated with this estimator. Please make sure this estimator is only used for building workflow config\n",
      "WARNING:sagemaker.estimator:No finished training job found associated with this estimator. Please make sure this estimator is only used for building workflow config\n",
      "WARNING:sagemaker.workflow.utilities:Popping out 'HyperParameterTuningJobName' from the pipeline definition by default since it will be overridden at pipeline execution time. Please utilize the PipelineDefinitionConfig to persist this field in the pipeline definition if desired.\n",
      "WARNING:sagemaker.workflow.utilities:Popping out 'ProcessingJobName' from the pipeline definition by default since it will be overridden at pipeline execution time. Please utilize the PipelineDefinitionConfig to persist this field in the pipeline definition if desired.\n",
      "WARNING:sagemaker.estimator:No finished training job found associated with this estimator. Please make sure this estimator is only used for building workflow config\n",
      "WARNING:sagemaker.workflow._utils:Popping out 'CertifyForMarketplace' from the pipeline definition since it will be overridden in pipeline execution time.\n",
      "WARNING:sagemaker.workflow.utilities:Popping out 'ModelPackageName' from the pipeline definition by default since it will be overridden at pipeline execution time. Please utilize the PipelineDefinitionConfig to persist this field in the pipeline definition if desired.\n",
      "WARNING:sagemaker.workflow.utilities:Popping out 'ModelName' from the pipeline definition by default since it will be overridden at pipeline execution time. Please utilize the PipelineDefinitionConfig to persist this field in the pipeline definition if desired.\n",
      "WARNING:sagemaker.workflow.utilities:Popping out 'ProcessingJobName' from the pipeline definition by default since it will be overridden at pipeline execution time. Please utilize the PipelineDefinitionConfig to persist this field in the pipeline definition if desired.\n",
      "WARNING:sagemaker.workflow.utilities:Popping out 'TransformJobName' from the pipeline definition by default since it will be overridden at pipeline execution time. Please utilize the PipelineDefinitionConfig to persist this field in the pipeline definition if desired.\n",
      "WARNING:sagemaker.workflow.utilities:Popping out 'ProcessingJobName' from the pipeline definition by default since it will be overridden at pipeline execution time. Please utilize the PipelineDefinitionConfig to persist this field in the pipeline definition if desired.\n"
     ]
    },
    {
     "data": {
      "text/plain": [
       "{'PipelineArn': 'arn:aws:sagemaker:us-east-2:905418470938:pipeline/ChurnModelSMPipeline',\n",
       " 'ResponseMetadata': {'RequestId': '75d21bb3-05f8-449a-bb4b-0dd2e79714f0',\n",
       "  'HTTPStatusCode': 200,\n",
       "  'HTTPHeaders': {'x-amzn-requestid': '75d21bb3-05f8-449a-bb4b-0dd2e79714f0',\n",
       "   'content-type': 'application/x-amz-json-1.1',\n",
       "   'content-length': '88',\n",
       "   'date': 'Sun, 07 Jul 2024 23:49:58 GMT'},\n",
       "  'RetryAttempts': 0}}"
      ]
     },
     "execution_count": 14,
     "metadata": {},
     "output_type": "execute_result"
    }
   ],
   "source": [
    "pipeline.upsert(role_arn=role)"
   ]
  },
  {
   "cell_type": "code",
   "execution_count": 17,
   "id": "69530381-5163-4d0c-8f43-5bfe9b3ad902",
   "metadata": {},
   "outputs": [],
   "source": [
    "execution = pipeline.start()"
   ]
  },
  {
   "cell_type": "code",
   "execution_count": 18,
   "id": "5584e0da-6064-420e-a945-5865a384f40e",
   "metadata": {},
   "outputs": [
    {
     "data": {
      "text/plain": [
       "{'PipelineArn': 'arn:aws:sagemaker:us-east-2:905418470938:pipeline/ChurnModelSMPipeline',\n",
       " 'PipelineExecutionArn': 'arn:aws:sagemaker:us-east-2:905418470938:pipeline/ChurnModelSMPipeline/execution/yg059lknlltz',\n",
       " 'PipelineExecutionDisplayName': 'execution-1720396326162',\n",
       " 'PipelineExecutionStatus': 'Failed',\n",
       " 'PipelineExperimentConfig': {'ExperimentName': 'churnmodelsmpipeline',\n",
       "  'TrialName': 'yg059lknlltz'},\n",
       " 'FailureReason': 'Step failure: One or multiple steps failed.',\n",
       " 'CreationTime': datetime.datetime(2024, 7, 7, 23, 52, 6, 79000, tzinfo=tzlocal()),\n",
       " 'LastModifiedTime': datetime.datetime(2024, 7, 7, 23, 52, 8, 764000, tzinfo=tzlocal()),\n",
       " 'CreatedBy': {'UserProfileArn': 'arn:aws:sagemaker:us-east-2:905418470938:user-profile/d-rb4yywbtxcyc/default-20240707t111919',\n",
       "  'UserProfileName': 'default-20240707t111919',\n",
       "  'DomainId': 'd-rb4yywbtxcyc',\n",
       "  'IamIdentity': {'Arn': 'arn:aws:sts::905418470938:assumed-role/AmazonSageMaker-ExecutionRole-20240707T111923/SageMaker',\n",
       "   'PrincipalId': 'AROA5FTZFOYNPCJ6DYKO6:SageMaker'}},\n",
       " 'LastModifiedBy': {'UserProfileArn': 'arn:aws:sagemaker:us-east-2:905418470938:user-profile/d-rb4yywbtxcyc/default-20240707t111919',\n",
       "  'UserProfileName': 'default-20240707t111919',\n",
       "  'DomainId': 'd-rb4yywbtxcyc',\n",
       "  'IamIdentity': {'Arn': 'arn:aws:sts::905418470938:assumed-role/AmazonSageMaker-ExecutionRole-20240707T111923/SageMaker',\n",
       "   'PrincipalId': 'AROA5FTZFOYNPCJ6DYKO6:SageMaker'}},\n",
       " 'ResponseMetadata': {'RequestId': '46f4d8e7-1abf-41c2-933f-d5055fce4ebc',\n",
       "  'HTTPStatusCode': 200,\n",
       "  'HTTPHeaders': {'x-amzn-requestid': '46f4d8e7-1abf-41c2-933f-d5055fce4ebc',\n",
       "   'content-type': 'application/x-amz-json-1.1',\n",
       "   'content-length': '1260',\n",
       "   'date': 'Sun, 07 Jul 2024 23:52:08 GMT'},\n",
       "  'RetryAttempts': 0}}"
      ]
     },
     "execution_count": 18,
     "metadata": {},
     "output_type": "execute_result"
    }
   ],
   "source": [
    "execution.describe()"
   ]
  },
  {
   "cell_type": "code",
   "execution_count": 19,
   "id": "d2cd9a00-a5b4-4087-8732-ec2cd95a733d",
   "metadata": {},
   "outputs": [
    {
     "data": {
      "text/plain": [
       "[{'StepName': 'ChurnModelProcess',\n",
       "  'StartTime': datetime.datetime(2024, 7, 7, 23, 52, 7, 366000, tzinfo=tzlocal()),\n",
       "  'EndTime': datetime.datetime(2024, 7, 7, 23, 52, 8, 416000, tzinfo=tzlocal()),\n",
       "  'StepStatus': 'Failed',\n",
       "  'FailureReason': \"ClientError: Failed to invoke sagemaker:CreateProcessingJob. Error Details: The account-level service limit 'ml.m5.xlarge for processing job usage' is 0 Instances, with current utilization of 0 Instances and a request delta of 1 Instances. Please use AWS Service Quotas to request an increase for this quota. If AWS Service Quotas is not available, contact AWS support to request an increase for this quota.\\nRetry not appropriate on execution of step with PipelineExecutionArn arn:aws:sagemaker:us-east-2:905418470938:pipeline/churnmodelsmpipeline/execution/yg059lknlltz and StepId ChurnModelProcess. No retry policy configured for the exception type SAGEMAKER_RESOURCE_LIMIT.\",\n",
       "  'Metadata': {},\n",
       "  'AttemptCount': 1}]"
      ]
     },
     "execution_count": 19,
     "metadata": {},
     "output_type": "execute_result"
    }
   ],
   "source": [
    "execution.list_steps()"
   ]
  },
  {
   "cell_type": "code",
   "execution_count": null,
   "id": "a0c074f3-e55b-42ca-9cbb-4a06d39415ea",
   "metadata": {},
   "outputs": [],
   "source": []
  }
 ],
 "metadata": {
  "kernelspec": {
   "display_name": "Python 3 (ipykernel)",
   "language": "python",
   "name": "python3"
  },
  "language_info": {
   "codemirror_mode": {
    "name": "ipython",
    "version": 3
   },
   "file_extension": ".py",
   "mimetype": "text/x-python",
   "name": "python",
   "nbconvert_exporter": "python",
   "pygments_lexer": "ipython3",
   "version": "3.10.14"
  }
 },
 "nbformat": 4,
 "nbformat_minor": 5
}
